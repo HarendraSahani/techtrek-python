{
 "cells": [
  {
   "cell_type": "markdown",
   "id": "a27f9707-846e-49cd-91ae-1b7f5c441fa2",
   "metadata": {},
   "source": [
    "* Let's do Hello World in a web page.\n",
    "    * Instead of a <font color='blue' face=\"Courier New\" size=\"+1\">print</font> statement as a way of outputting content to the user, we will return an HTML string that can be displayed in a browser.\n",
    "* Flask is a module that makes this easy to do:\n",
    "  * We load Flask and tell it that any request to the IP and port it monitors will be directed to the <font color='blue' face=\"Courier New\" size=\"+1\">hello_world</font> function that will return our output"
   ]
  },
  {
   "cell_type": "code",
   "execution_count": 1,
   "id": "2ed26436-46ff-483c-9959-58796a1e95fb",
   "metadata": {},
   "outputs": [
    {
     "name": "stdout",
     "output_type": "stream",
     "text": [
      " * Serving Flask app '__main__'\n",
      " * Debug mode: off\n"
     ]
    },
    {
     "name": "stderr",
     "output_type": "stream",
     "text": [
      "WARNING: This is a development server. Do not use it in a production deployment. Use a production WSGI server instead.\n",
      " * Running on http://127.0.0.1:5000\n",
      "Press CTRL+C to quit\n"
     ]
    }
   ],
   "source": [
    "from flask import Flask\n",
    "app = Flask(__name__)\n",
    "\n",
    "# ‘/’ URL is bound with hello_world() function.\n",
    "@app.route('/')\n",
    "def index():\n",
    "    return 'Hello World\\n'\n",
    "\n",
    "# main driver function\n",
    "if __name__ == '__main__':\n",
    "    app.run()\n",
    " "
   ]
  },
  {
   "cell_type": "markdown",
   "id": "3fe20c25-b8f7-4820-80cd-18c5f8ba3069",
   "metadata": {},
   "source": [
    "* Now open a terminal window and type the following:<br>\n",
    "  <font color='blue' face=\"Courier New\" size=\"+1\">curl localhost:5000</font>\n",
    "* Not terribly exciting yet, but we can see that the program runs and returns the desired output.\n",
    "* Click the stop button to shut down that running process.\n"
   ]
  },
  {
   "cell_type": "markdown",
   "id": "268a180f-0afc-4502-be46-a0ac932f476c",
   "metadata": {},
   "source": [
    "* Next step is we want to do this in a browser, so we need to configure a few steps to make that happen.\n",
    "* We need to tell Flask to monitor a particular port number and allow access from a range of IP addresses that are permitted to make an incoming request.\n",
    "  * Security should always be a consideration in anything we build\n",
    "  * For our purposes today, our machines all have a public IP address that we should be able to reach from our local browsers\n",
    "  * If your PC is locked down or behind firewalls you may not be able to do this, but you should be able to from a phone or personal device "
   ]
  },
  {
   "cell_type": "markdown",
   "id": "24b8ea8e-ae86-4267-b956-5d919c3985c7",
   "metadata": {},
   "source": [
    "* Normally you would know the IP of the machine you deploy your app to or there would be a DNS registration to let you use a URL\n",
    "    * for our purposes today we need to find that out, and also to find out each one of our unique port numbers.\n",
    "* The following Python functions will do that for us"
   ]
  },
  {
   "cell_type": "code",
   "execution_count": 57,
   "id": "cfb7a960-4ff6-470f-9a09-78ae37d693e0",
   "metadata": {},
   "outputs": [
    {
     "name": "stdout",
     "output_type": "stream",
     "text": [
      "My public IP address is http://66.23.205.226:501\n"
     ]
    }
   ],
   "source": [
    "from requests import get\n",
    "ip = get('https://api.ipify.org').content.decode('utf8')\n",
    "\n",
    "import os\n",
    "port_number = os.getuid()\n",
    "print(f'My public IP address is http://{ip}:{port_number}')\n",
    "\n"
   ]
  },
  {
   "cell_type": "markdown",
   "id": "ea6796f3",
   "metadata": {},
   "source": [
    "* If you are running this in Google Colab the following should work instead"
   ]
  },
  {
   "cell_type": "code",
   "execution_count": null,
   "id": "d4c1b1b0",
   "metadata": {},
   "outputs": [],
   "source": [
    "from google.colab import output\n",
    "from requests import get\n",
    "ip = get('https://api.ipify.org').content.decode('utf8')\n",
    "port_number = 8084\n",
    "\n",
    "output.serve_kernel_port_as_window(port_number)\n",
    "print(f'My public IP address is http://{ip}:{port_number}')\n"
   ]
  },
  {
   "cell_type": "markdown",
   "id": "2c0880c4",
   "metadata": {},
   "source": [
    "* If you're running on a local environment you can just run this code"
   ]
  },
  {
   "cell_type": "code",
   "execution_count": 13,
   "id": "4dee6889",
   "metadata": {},
   "outputs": [],
   "source": [
    "ip = '127.0.0.1'\n",
    "port_number = 8000"
   ]
  },
  {
   "cell_type": "markdown",
   "id": "689198b6-9b39-4c3e-b8f2-55ebc1ae71bd",
   "metadata": {},
   "source": [
    "* Let's run the following and then use your browser to navigate the the address it gave you above \n",
    "* The <font color='blue' face=\"Courier New\" size=\"+1\">host = '0.0.0.0'</font> tells it to accept incoming requests from any IP address and the <font color='blue' face=\"Courier New\" size=\"+1\">port</font> parameters tells it to monitor on a particular port number"
   ]
  },
  {
   "cell_type": "code",
   "execution_count": 3,
   "id": "69e3c575-ac29-49eb-b0f3-ba173ce43a94",
   "metadata": {},
   "outputs": [
    {
     "name": "stdout",
     "output_type": "stream",
     "text": [
      " * Serving Flask app '__main__'\n",
      " * Debug mode: off\n"
     ]
    },
    {
     "name": "stderr",
     "output_type": "stream",
     "text": [
      "WARNING: This is a development server. Do not use it in a production deployment. Use a production WSGI server instead.\n",
      " * Running on all addresses (0.0.0.0)\n",
      " * Running on http://127.0.0.1:8000\n",
      " * Running on http://10.0.1.10:8000\n",
      "Press CTRL+C to quit\n",
      "127.0.0.1 - - [08/May/2024 12:13:35] \"GET / HTTP/1.1\" 200 -\n"
     ]
    }
   ],
   "source": [
    "from flask import Flask\n",
    "app = Flask(__name__)\n",
    "\n",
    "@app.route('/')\n",
    "def index():\n",
    "    return 'Hello World\\n'\n",
    "\n",
    "# main driver function\n",
    "if __name__ == '__main__':\n",
    "    app.run(host = '0.0.0.0', port = port_number)\n",
    " "
   ]
  },
  {
   "cell_type": "markdown",
   "id": "aef17e04-1b01-423a-beca-6431e462aaae",
   "metadata": {},
   "source": [
    "* Press the stop button again so we can continue\n",
    "* Normally we would run this code from a script on a server, but for development purposes we will write all our code in a Jupyter notebook and follow this same pattern for the rest of the examples."
   ]
  },
  {
   "cell_type": "markdown",
   "id": "a1cdc31c-af55-444e-962e-79c443309251",
   "metadata": {},
   "source": [
    "* Routes allow us to control what function gets run depending on the full address of the URL.\n",
    "* Anything after the URL or IP and port is the route\n",
    "  * If none is specified it goes to the root or <font color='blue' face=\"Courier New\" size=\"+1\">/</font> route\n",
    "  * To add additional pages we makeup a name and <font color='blue' >decorate</font> the function with the path we want it to look for in the URL"
   ]
  },
  {
   "cell_type": "code",
   "execution_count": 19,
   "id": "d91d2c7a-4955-4aa1-9c7c-6ec81fb790e5",
   "metadata": {},
   "outputs": [
    {
     "name": "stdout",
     "output_type": "stream",
     "text": [
      " * Serving Flask app '__main__'\n",
      " * Debug mode: off\n"
     ]
    },
    {
     "name": "stderr",
     "output_type": "stream",
     "text": [
      "WARNING: This is a development server. Do not use it in a production deployment. Use a production WSGI server instead.\n",
      " * Running on all addresses (0.0.0.0)\n",
      " * Running on http://127.0.0.1:64358\n",
      " * Running on http://10.128.0.41:64358\n",
      "Press CTRL+C to quit\n",
      "47.62.92.237 - - [08/May/2024 08:51:51] \"GET / HTTP/1.1\" 200 -\n",
      "47.62.92.237 - - [08/May/2024 08:51:55] \"GET /about HTTP/1.1\" 200 -\n"
     ]
    }
   ],
   "source": [
    "from flask import Flask\n",
    "app = Flask(__name__)\n",
    "\n",
    "@app.route('/')\n",
    "def index():\n",
    "    return 'Hello World\\n'\n",
    "\n",
    "@app.route('/about')\n",
    "def about_page():\n",
    "    return 'This is the <b>about</b> page for our website'\n",
    "\n",
    "# main driver function\n",
    "if __name__ == '__main__':\n",
    "    app.run(host = '0.0.0.0', port = port_number)\n",
    " "
   ]
  },
  {
   "cell_type": "markdown",
   "id": "c24aa9dc-741d-4524-b2b6-712e394a9209",
   "metadata": {},
   "source": [
    "* Note how we started to add some HTML into the return string with the <font color='blue' face=\"Courier New\" size=\"+1\">\\<b></font> and <font color='blue' face=\"Courier New\" size=\"+1\">\\</b></font> to bold the word about."
   ]
  },
  {
   "cell_type": "markdown",
   "id": "249c9209-8595-45a2-bf2b-f9722f5e8294",
   "metadata": {},
   "source": [
    "* In addition to routes, we sometimes want to pass parameters to functions\n",
    "* This can be done by examining the additional data sent in the request and parsing it\n",
    "* The <font color='blue' face=\"Courier New\" size=\"+1\">request.args.get</font> is one way to do this"
   ]
  },
  {
   "cell_type": "code",
   "execution_count": 34,
   "id": "97759774-5dbf-4b8e-9407-1ebe3a63b82a",
   "metadata": {},
   "outputs": [
    {
     "name": "stdout",
     "output_type": "stream",
     "text": [
      " * Serving Flask app '__main__'\n",
      " * Debug mode: off\n"
     ]
    },
    {
     "name": "stderr",
     "output_type": "stream",
     "text": [
      "WARNING: This is a development server. Do not use it in a production deployment. Use a production WSGI server instead.\n",
      " * Running on all addresses (0.0.0.0)\n",
      " * Running on http://127.0.0.1:64358\n",
      " * Running on http://10.128.0.41:64358\n",
      "Press CTRL+C to quit\n",
      "47.62.92.237 - - [08/May/2024 09:38:36] \"GET /hello HTTP/1.1\" 200 -\n",
      "47.62.92.237 - - [08/May/2024 09:38:43] \"GET /hello?name=Joey HTTP/1.1\" 200 -\n",
      "47.62.92.237 - - [08/May/2024 09:39:04] \"GET /hello HTTP/1.1\" 200 -\n"
     ]
    }
   ],
   "source": [
    "from flask import Flask\n",
    "app = Flask(__name__)\n",
    "\n",
    "@app.route('/')\n",
    "def index():\n",
    "    return 'Hello World\\n'\n",
    "\n",
    "@app.route('/about')\n",
    "def about_page():\n",
    "    return 'This is the <b>about</b> page for our website'\n",
    "\n",
    "\n",
    "@app.route('/hello')\n",
    "def hello_name():\n",
    "    name = request.args.get('name')\n",
    "    if name:\n",
    "        return f\"Hello, {name}!\"\n",
    "    else:\n",
    "        return \"Please provide a name parameter in the URL (e.g., /helllo?name=Leia)\"\n",
    "\n",
    "\n",
    "# main driver function\n",
    "if __name__ == '__main__':\n",
    "    app.run(host = '0.0.0.0', port = port_number)\n",
    " \n"
   ]
  },
  {
   "cell_type": "markdown",
   "id": "50b2606a-6612-4eeb-a47b-b5b27fed8f27",
   "metadata": {},
   "source": [
    "* We can also pass multiple parametes by using the <font color='blue' face=\"Courier New\" size=\"+1\">&</font> to separate the named parameters"
   ]
  },
  {
   "cell_type": "code",
   "execution_count": 36,
   "id": "d1671a6f-396f-4d48-813f-567d0f5c3a84",
   "metadata": {},
   "outputs": [
    {
     "name": "stdout",
     "output_type": "stream",
     "text": [
      " * Serving Flask app '__main__'\n",
      " * Debug mode: off\n"
     ]
    },
    {
     "name": "stderr",
     "output_type": "stream",
     "text": [
      "WARNING: This is a development server. Do not use it in a production deployment. Use a production WSGI server instead.\n",
      " * Running on all addresses (0.0.0.0)\n",
      " * Running on http://127.0.0.1:64358\n",
      " * Running on http://10.128.0.41:64358\n",
      "Press CTRL+C to quit\n",
      "47.62.92.237 - - [08/May/2024 09:39:28] \"GET /hello HTTP/1.1\" 200 -\n",
      "47.62.92.237 - - [08/May/2024 09:39:42] \"GET /hello?firstname=Joey&lastname=Gagliardo HTTP/1.1\" 200 -\n"
     ]
    }
   ],
   "source": [
    "from flask import Flask\n",
    "app = Flask(__name__)\n",
    "\n",
    "@app.route('/')\n",
    "def index():\n",
    "    return 'Hello World\\n'\n",
    "\n",
    "@app.route('/about')\n",
    "def about_page():\n",
    "    return 'This is the <b>about</b> page for our website'\n",
    "\n",
    "\n",
    "@app.route('/hello')\n",
    "def hello_name():\n",
    "    first_name = request.args.get('firstname')\n",
    "    last_name = request.args.get('lastname')\n",
    "    if first_name and last_name:\n",
    "        return f\"Hello, {first_name} {last_name}!\"\n",
    "    else:\n",
    "        return \"Please provide a name parameter in the URL (e.g., /hello?firstname=Luke&lastname=Skywalker)\"\n",
    "\n",
    "\n",
    "# main driver function\n",
    "if __name__ == '__main__':\n",
    "    app.run(host = '0.0.0.0', port = port_number)\n",
    " \n"
   ]
  },
  {
   "cell_type": "markdown",
   "id": "8a1a9ffe-19ba-4245-a03d-c60ecc457af0",
   "metadata": {},
   "source": [
    "* Web pages can do a lot more than just return content\n",
    "* So far what we've done is called a <font color='blue'>GET</font> which is what we do when we want to read or retrieve information\n",
    "* The HTTP protocol also supports making changes, usually to a database, in the backend.\n",
    "* There's three other types of requests we can make:\n",
    "    * <font color='blue'>POST</font> is used when we want to create or insert a new item\n",
    "    * <font color='blue'>PUT</font> is used when we want to modify an existing item\n",
    "    * <font color='blue'>DELETE</font> is used when we want to remove an existing item\n",
    "* We typically encode any data we want to send and receive as JSON"
   ]
  },
  {
   "cell_type": "code",
   "execution_count": 10,
   "id": "da677e49-e081-4004-b596-e0eb87e41896",
   "metadata": {},
   "outputs": [
    {
     "name": "stdout",
     "output_type": "stream",
     "text": [
      " * Serving Flask app '__main__'\n",
      " * Debug mode: off\n"
     ]
    },
    {
     "name": "stderr",
     "output_type": "stream",
     "text": [
      "WARNING: This is a development server. Do not use it in a production deployment. Use a production WSGI server instead.\n",
      " * Running on all addresses (0.0.0.0)\n",
      " * Running on http://127.0.0.1:8000\n",
      " * Running on http://10.0.1.10:8000\n",
      "Press CTRL+C to quit\n",
      "127.0.0.1 - - [08/May/2024 13:13:13] \"POST /todos HTTP/1.1\" 201 -\n"
     ]
    }
   ],
   "source": [
    "from flask import Flask, request, jsonify\n",
    "app = Flask(__name__)\n",
    "todo_list = []\n",
    "\n",
    "@app.route('/')\n",
    "def index():\n",
    "    return \"\"\"<!DOCTYPE html>\n",
    "<html>\n",
    "<head>\n",
    "  <title>Create Todo</title>\n",
    "</head>\n",
    "<body>\n",
    "  <h1>Create a new Todo</h1>\n",
    "  <form method=\"POST\" action=\"/todo\">\n",
    "    <label for=\"title\">Title:</label>\n",
    "    <input type=\"text\" id=\"title\" name=\"title\" required>\n",
    "    <button type=\"submit\">Create</button>\n",
    "  </form>\n",
    "</body>\n",
    "</html>\"\"\"\n",
    "\n",
    "@app.route('/about')\n",
    "def about_page():\n",
    "    return 'This is the <b>about</b> page for our website'\n",
    "\n",
    "@app.route(\"/todo\", methods=[\"POST\"])\n",
    "def create_todo():\n",
    "    title = request.form.get('title')\n",
    "    if not title:\n",
    "        return jsonify({\"error\": \"Missing title\"}), 400\n",
    "    new_todo = {\"id\": len(todo_list) + 1, \"title\": title, \"completed\": False}\n",
    "    todo_list.append(new_todo)\n",
    "    return jsonify(new_todo), 201  # Created status code\n",
    "\n",
    "# main driver function\n",
    "if __name__ == '__main__':\n",
    "    app.run(host = '0.0.0.0', port = port_number)\n",
    " "
   ]
  },
  {
   "cell_type": "markdown",
   "id": "884ecfd5-526f-4826-bdea-c531d960800d",
   "metadata": {},
   "source": [
    "* The above code uses the default index page to create an HTML form\n",
    "  * We would typically save this in a file instead\n",
    "* The form allows the user to input a value and save it into a field named title\n",
    "* When the user clicks the Submit button the <font color='blue' face=\"Courier New\" size=\"+1\">action</font> parameter routes the request to the <font color='blue' face=\"Courier New\" size=\"+1\">todo</font> function which parses the fields in the form and in this case just adds the value to a <font color='blue' face=\"Courier New\" size=\"+1\">list</font> object in memory\n",
    "  * Later we could save it to a database, but this is what we often call a <font color='blue'>mock</font> so we don't have to do too many things at once\n",
    "* We could also directly call it with a <font color='blue' face=\"Courier New\" size=\"+1\">curl</font> command like this:\n",
    "<font color='blue' face=\"Courier New\" size=\"+1\">curl -d \"title=title1\" -X POST http://localhost:8000/todos</font>\n",
    "  * make sure to use your IP and port instead of localhost and 8000 and call the curl from a terminal window"
   ]
  },
  {
   "cell_type": "markdown",
   "id": "d8fcd52c",
   "metadata": {},
   "source": [
    "* Often we will use JSON as a way of encoding the data instead\n",
    "    * This is how we make web services instead of web pages\n",
    "* Web services are meant as a way of allowing just data to be passed between computer programs instead of HTML that is formated content meant from humans to read"
   ]
  },
  {
   "cell_type": "code",
   "execution_count": 25,
   "id": "359f512a",
   "metadata": {},
   "outputs": [
    {
     "name": "stdout",
     "output_type": "stream",
     "text": [
      "Try the following in a terminal:\n",
      "          curl -d '{\"title\": \"title3\", \"completed\": \"True\"}' -H \"Content-Type: application/json\" -X POST http://127.0.0.1:8000/todo\n",
      "          \n",
      " * Serving Flask app '__main__'\n",
      " * Debug mode: off\n"
     ]
    },
    {
     "name": "stderr",
     "output_type": "stream",
     "text": [
      "WARNING: This is a development server. Do not use it in a production deployment. Use a production WSGI server instead.\n",
      " * Running on all addresses (0.0.0.0)\n",
      " * Running on http://127.0.0.1:8000\n",
      " * Running on http://10.0.1.10:8000\n",
      "Press CTRL+C to quit\n",
      "127.0.0.1 - - [08/May/2024 15:00:31] \"POST /todo HTTP/1.1\" 201 -\n"
     ]
    }
   ],
   "source": [
    "from flask import Flask, request, jsonify\n",
    "app = Flask(__name__)\n",
    "todo_list = []\n",
    "\n",
    "@app.route('/')\n",
    "def index():\n",
    "    return \"Hello World\\n\"\n",
    "\n",
    "@app.route(\"/todo\", methods=[\"POST\"])\n",
    "def create_todo():\n",
    "    if not request.is_json:\n",
    "        return \"Request must have Content-Type: application/json\", 415  # Unsupported Media Type\n",
    "\n",
    "    # Parse JSON data\n",
    "    data = request.get_json()\n",
    "\n",
    "    # Access data (assuming keys like 'username' and 'password' exist)\n",
    "    title = data.get(\"title\")\n",
    "    completed = data.get(\"completed\")\n",
    "\n",
    "    new_todo = {\"id\": len(todo_list) + 1, \"title\": title, \"completed\": completed}\n",
    "    todo_list.append(new_todo)\n",
    "    return jsonify(new_todo), 201  # Created status code\n",
    "\n",
    "# main driver function\n",
    "if __name__ == '__main__':\n",
    "    print(\"\"\"Try the following in a terminal:\n",
    "          curl -d '{{\"title\": \"title3\", \"completed\": \"True\"}}' -H \"Content-Type: application/json\" -X POST http://{}:{}/todo\n",
    "          \"\"\".format(ip, port_number))\n",
    "\n",
    "    app.run(host = '0.0.0.0', port = port_number)\n",
    " "
   ]
  },
  {
   "cell_type": "markdown",
   "id": "6a872be0-5e7f-41dd-bf5d-39678631c058",
   "metadata": {},
   "source": [
    "Run the <font color='blue' face=\"Courier New\" size=\"+1\">curl</font> command it generated above to test out the web service"
   ]
  },
  {
   "cell_type": "markdown",
   "id": "3a51b7a9",
   "metadata": {},
   "source": [
    "* Let's create a web form and store it in a file\n",
    "* We will have multiple buttons that can then route the program to different functions\n",
    "* The <font color='blue' face=\"Courier New\" size=\"+1\">render_template</font> function will read the file which should be in the <font color='blue' face=\"Courier New\" size=\"+1\">templates</font> folder\n",
    "* Note the use of the double curly braces <font color='blue' face=\"Courier New\" size=\"+1\">{{ }}</font> in the template file to allow us to inject a value in"
   ]
  },
  {
   "cell_type": "code",
   "execution_count": null,
   "id": "7e307731",
   "metadata": {},
   "outputs": [
    {
     "name": "stdout",
     "output_type": "stream",
     "text": [
      " * Serving Flask app '__main__'\n",
      " * Debug mode: off\n"
     ]
    },
    {
     "name": "stderr",
     "output_type": "stream",
     "text": [
      "WARNING: This is a development server. Do not use it in a production deployment. Use a production WSGI server instead.\n",
      " * Running on http://127.0.0.1:8000\n",
      "Press CTRL+C to quit\n",
      "127.0.0.1 - - [08/May/2024 15:36:05] \"GET / HTTP/1.1\" 200 -\n",
      "127.0.0.1 - - [08/May/2024 15:36:09] \"POST / HTTP/1.1\" 200 -\n",
      "127.0.0.1 - - [08/May/2024 15:36:11] \"POST / HTTP/1.1\" 200 -\n",
      "127.0.0.1 - - [08/May/2024 15:36:12] \"POST / HTTP/1.1\" 200 -\n"
     ]
    }
   ],
   "source": [
    "from flask import Flask, request, render_template\n",
    "\n",
    "app = Flask(__name__)\n",
    "\n",
    "@app.route(\"/\", methods=[\"GET\", \"POST\"])\n",
    "def index():\n",
    "  if request.method == \"POST\":\n",
    "    action = request.form.get(\"action\")\n",
    "    if action == \"greet\":\n",
    "      message = \"Hello from Flask!\"\n",
    "    elif action == \"show_date\":\n",
    "      from datetime import date\n",
    "      today = date.today().strftime(\"%B %d, %Y\")\n",
    "      message = f\"Today's date: {today}\"\n",
    "    elif action == \"custom_action\":\n",
    "      # Replace with your custom function logic\n",
    "      message = \"This is a custom action!\"\n",
    "    else:\n",
    "      message = \"Invalid action!\"\n",
    "    return render_template(\"buttons.html\", message=message)\n",
    "  else:\n",
    "    return render_template(\"buttons.html\")\n",
    "\n",
    "if __name__ == \"__main__\":\n",
    "  app.run(port = port_number)"
   ]
  },
  {
   "cell_type": "code",
   "execution_count": 49,
   "id": "571d13bf",
   "metadata": {},
   "outputs": [
    {
     "name": "stdout",
     "output_type": "stream",
     "text": [
      " * Serving Flask app '__main__'\n",
      " * Debug mode: off\n"
     ]
    },
    {
     "name": "stderr",
     "output_type": "stream",
     "text": [
      "WARNING: This is a development server. Do not use it in a production deployment. Use a production WSGI server instead.\n",
      " * Running on http://127.0.0.1:8000\n",
      "Press CTRL+C to quit\n",
      "127.0.0.1 - - [08/May/2024 16:13:42] \"GET / HTTP/1.1\" 200 -\n",
      "127.0.0.1 - - [08/May/2024 16:13:47] \"POST / HTTP/1.1\" 200 -\n",
      "127.0.0.1 - - [08/May/2024 16:13:51] \"POST / HTTP/1.1\" 200 -\n",
      "127.0.0.1 - - [08/May/2024 16:14:07] \"POST / HTTP/1.1\" 200 -\n",
      "127.0.0.1 - - [08/May/2024 16:14:13] \"POST / HTTP/1.1\" 200 -\n"
     ]
    }
   ],
   "source": [
    "from flask import Flask, request, render_template\n",
    "\n",
    "app = Flask(__name__)\n",
    "todo_list = []\n",
    "\n",
    "@app.route(\"/\", methods=[\"GET\", \"POST\"])\n",
    "def index():\n",
    "  message = ''\n",
    "  if request.method == \"POST\":\n",
    "    action = request.form.get(\"action\")\n",
    "    if action == \"delete\":\n",
    "      id = request.form.get('title')\n",
    "      for item in todo_list:\n",
    "        if item['id'] == int(id):\n",
    "          title = item['title']\n",
    "          todo_list.remove(item)\n",
    "        message = f\"Deleted {id} - {title}\"\n",
    "    elif action == \"create\":\n",
    "      title = request.form.get('title')\n",
    "      id = len(todo_list) + 1\n",
    "      new_todo = {\"id\": id, \"title\": title, \"completed\": False}\n",
    "      todo_list.append(new_todo)\n",
    "      message = f'Added {id} - {title}'\n",
    "    else:\n",
    "      message = \"Invalid action!\"\n",
    "    return render_template(\"todo.html\", message = message, data = todo_list)\n",
    "  else:\n",
    "    return render_template(\"todo.html\")\n",
    "\n",
    "if __name__ == \"__main__\":\n",
    "  app.run(port = port_number)"
   ]
  },
  {
   "cell_type": "code",
   "execution_count": 51,
   "id": "895f184e",
   "metadata": {},
   "outputs": [
    {
     "name": "stdout",
     "output_type": "stream",
     "text": [
      " * Serving Flask app '__main__'\n",
      " * Debug mode: off\n"
     ]
    },
    {
     "name": "stderr",
     "output_type": "stream",
     "text": [
      "WARNING: This is a development server. Do not use it in a production deployment. Use a production WSGI server instead.\n",
      " * Running on http://127.0.0.1:8000\n",
      "Press CTRL+C to quit\n",
      "127.0.0.1 - - [08/May/2024 16:24:03] \"GET / HTTP/1.1\" 200 -\n",
      "127.0.0.1 - - [08/May/2024 16:24:06] \"POST / HTTP/1.1\" 200 -\n",
      "127.0.0.1 - - [08/May/2024 16:24:08] \"GET / HTTP/1.1\" 200 -\n",
      "127.0.0.1 - - [08/May/2024 16:24:16] \"POST / HTTP/1.1\" 200 -\n",
      "127.0.0.1 - - [08/May/2024 16:24:19] \"GET / HTTP/1.1\" 200 -\n",
      "127.0.0.1 - - [08/May/2024 16:24:31] \"POST / HTTP/1.1\" 200 -\n"
     ]
    }
   ],
   "source": [
    "from flask import Flask, request, render_template\n",
    "\n",
    "app = Flask(__name__)\n",
    "todo_list = []\n",
    "\n",
    "@app.route(\"/\", methods=[\"GET\", \"POST\"])\n",
    "def index():\n",
    "  message = ''\n",
    "  if request.method == \"POST\":\n",
    "    action = request.form.get(\"action\")\n",
    "    if action == \"delete\":\n",
    "      id = request.form.get('title')\n",
    "      for item in todo_list:\n",
    "        if item['id'] == int(id):\n",
    "          title = item['title']\n",
    "          todo_list.remove(item)\n",
    "        message = f\"Deleted {id} - {title}\"\n",
    "    elif action == \"create\":\n",
    "      title = request.form.get('title')\n",
    "      id = len(todo_list) + 1\n",
    "      new_todo = {\"id\": id, \"title\": title, \"completed\": False}\n",
    "      todo_list.append(new_todo)\n",
    "      message = f'Added {id} - {title}'\n",
    "    else:\n",
    "      message = \"Invalid action!\"\n",
    "    return render_template(\"todo2.html\", message = message, data = todo_list)\n",
    "  else:\n",
    "    return render_template(\"todo2.html\")\n",
    "\n",
    "if __name__ == \"__main__\":\n",
    "  app.run(port = port_number)"
   ]
  },
  {
   "cell_type": "code",
   "execution_count": 56,
   "id": "599ae571",
   "metadata": {},
   "outputs": [
    {
     "name": "stdout",
     "output_type": "stream",
     "text": [
      " * Serving Flask app '__main__'\n",
      " * Debug mode: off\n"
     ]
    },
    {
     "name": "stderr",
     "output_type": "stream",
     "text": [
      "WARNING: This is a development server. Do not use it in a production deployment. Use a production WSGI server instead.\n",
      " * Running on all addresses (0.0.0.0)\n",
      " * Running on http://127.0.0.1:8000\n",
      " * Running on http://10.80.0.114:8000\n",
      "Press CTRL+C to quit\n",
      "127.0.0.1 - - [08/May/2024 17:40:54] \"GET / HTTP/1.1\" 200 -\n",
      "127.0.0.1 - - [08/May/2024 17:40:57] \"GET /insert HTTP/1.1\" 200 -\n",
      "127.0.0.1 - - [08/May/2024 17:41:17] \"POST /insert HTTP/1.1\" 302 -\n",
      "127.0.0.1 - - [08/May/2024 17:41:17] \"GET / HTTP/1.1\" 200 -\n",
      "127.0.0.1 - - [08/May/2024 17:41:21] \"GET /update/1 HTTP/1.1\" 200 -\n",
      "127.0.0.1 - - [08/May/2024 17:41:25] \"POST /update/1 HTTP/1.1\" 302 -\n",
      "127.0.0.1 - - [08/May/2024 17:41:25] \"GET / HTTP/1.1\" 200 -\n",
      "127.0.0.1 - - [08/May/2024 17:41:37] \"GET /delete/1 HTTP/1.1\" 302 -\n",
      "127.0.0.1 - - [08/May/2024 17:41:37] \"GET / HTTP/1.1\" 200 -\n"
     ]
    }
   ],
   "source": [
    "from flask import Flask, render_template, request, redirect, url_for\n",
    "import sqlite3\n",
    "\n",
    "app = Flask(__name__)\n",
    "\n",
    "# Define a connection function to connect to the database\n",
    "def connect_db():\n",
    "  conn = sqlite3.connect('users.db')\n",
    "  conn.row_factory = sqlite3.Row\n",
    "  return conn\n",
    "\n",
    "# Create a table if it doesn't exist (one-time setup)\n",
    "def create_table():\n",
    "  conn = connect_db()\n",
    "  cursor = conn.cursor()\n",
    "  cursor.execute('''CREATE TABLE IF NOT EXISTS users (\n",
    "          id INTEGER PRIMARY KEY AUTOINCREMENT,\n",
    "          first_name TEXT NOT NULL,\n",
    "          last_name TEXT NOT NULL,\n",
    "          birthdate DATE,\n",
    "          salary REAL\n",
    "          )''')\n",
    "  conn.commit()\n",
    "  conn.close()\n",
    "\n",
    "create_table()  # Call the create_table function once initially\n",
    "\n",
    "# Route to display all users\n",
    "@app.route('/')\n",
    "def home():\n",
    "  conn = connect_db()\n",
    "  cursor = conn.cursor()\n",
    "  cursor.execute('SELECT * FROM users')\n",
    "  users = cursor.fetchall()\n",
    "  conn.close()\n",
    "  return render_template('users.html', users=users)\n",
    "\n",
    "# Route to display a user by ID for update\n",
    "@app.route('/update/<int:id>')\n",
    "def update(id):\n",
    "  conn = connect_db()\n",
    "  cursor = conn.cursor()\n",
    "  cursor.execute('SELECT * FROM users WHERE id = ?', (id,))\n",
    "  user = cursor.fetchone()\n",
    "  conn.close()\n",
    "  return render_template('update_user.html', user=user)\n",
    "\n",
    "# Route to handle user update form submission\n",
    "@app.route('/update/<int:id>', methods=['POST'])\n",
    "def update_post(id):\n",
    "  first_name = request.form['first_name']\n",
    "  last_name = request.form['last_name']\n",
    "  birthdate = request.form['birthdate']\n",
    "  salary = float(request.form['salary'])  # Convert salary to float\n",
    "\n",
    "  conn = connect_db()\n",
    "  cursor = conn.cursor()\n",
    "  cursor.execute(\"\"\"UPDATE users SET first_name = ?, last_name = ?, birthdate = ?, salary = ? WHERE id = ?\"\"\",\n",
    "                  (first_name, last_name, birthdate, salary, id))\n",
    "  conn.commit()\n",
    "  conn.close()\n",
    "  return redirect(url_for('home'))  # Redirect to home page after update\n",
    "\n",
    "# Route to display form to insert a new user\n",
    "@app.route('/insert')\n",
    "def insert():\n",
    "  return render_template('insert_user.html')\n",
    "\n",
    "# Route to handle user insert form submission\n",
    "@app.route('/insert', methods=['POST'])\n",
    "def insert_post():\n",
    "  first_name = request.form['first_name']\n",
    "  last_name = request.form['last_name']\n",
    "  birthdate = request.form['birthdate']\n",
    "  salary = float(request.form['salary'])  # Convert salary to float\n",
    "\n",
    "  conn = connect_db()\n",
    "  cursor = conn.cursor()\n",
    "  cursor.execute(\"\"\"INSERT INTO users (first_name, last_name, birthdate, salary) VALUES (?, ?, ?, ?)\"\"\",\n",
    "                  (first_name, last_name, birthdate, salary))\n",
    "  conn.commit()\n",
    "  conn.close()\n",
    "  return redirect(url_for('home'))  # Redirect to home page after insert\n",
    "\n",
    "# Route to delete a user by ID\n",
    "@app.route('/delete/<int:id>')\n",
    "def delete(id):\n",
    "  conn = connect_db()\n",
    "  cursor = conn.cursor()\n",
    "  cursor.execute('DELETE FROM users WHERE id = ?', (id,))\n",
    "  conn.commit()\n",
    "  conn.close()\n",
    "  return redirect(url_for('home'))  # Redirect to home page after delete\n",
    "\n",
    "if __name__ == '__main__':\n",
    "  app.run(host = '0.0.0.0', port = port_number)"
   ]
  }
 ],
 "metadata": {
  "kernelspec": {
   "display_name": "Python 3 (ipykernel)",
   "language": "python",
   "name": "python3"
  },
  "language_info": {
   "codemirror_mode": {
    "name": "ipython",
    "version": 3
   },
   "file_extension": ".py",
   "mimetype": "text/x-python",
   "name": "python",
   "nbconvert_exporter": "python",
   "pygments_lexer": "ipython3",
   "version": "3.10.13"
  }
 },
 "nbformat": 4,
 "nbformat_minor": 5
}

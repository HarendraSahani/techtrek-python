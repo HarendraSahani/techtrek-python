{
 "cells": [
  {
   "cell_type": "code",
   "execution_count": 1,
   "id": "cfb7a960-4ff6-470f-9a09-78ae37d693e0",
   "metadata": {},
   "outputs": [
    {
     "name": "stdout",
     "output_type": "stream",
     "text": [
      "My public IP address is: 34.27.27.82:64358\n"
     ]
    }
   ],
   "source": [
    "from requests import get\n",
    "ip = get('https://api.ipify.org').content.decode('utf8')\n",
    "\n",
    "import os\n",
    "port = os.getuid()\n",
    "print(f'My public IP address is: {ip}:{port}')\n",
    "\n"
   ]
  },
  {
   "cell_type": "code",
   "execution_count": null,
   "id": "2ed26436-46ff-483c-9959-58796a1e95fb",
   "metadata": {},
   "outputs": [
    {
     "name": "stdout",
     "output_type": "stream",
     "text": [
      " * Serving Flask app '__main__'\n",
      " * Debug mode: off\n"
     ]
    },
    {
     "name": "stderr",
     "output_type": "stream",
     "text": [
      "WARNING: This is a development server. Do not use it in a production deployment. Use a production WSGI server instead.\n",
      " * Running on all addresses (0.0.0.0)\n",
      " * Running on http://127.0.0.1:64358\n",
      " * Running on http://10.128.0.41:64358\n",
      "Press CTRL+C to quit\n",
      "47.62.92.237 - - [07/May/2024 22:34:00] \"GET / HTTP/1.1\" 200 -\n",
      "47.62.92.237 - - [07/May/2024 22:34:00] \"GET /favicon.ico HTTP/1.1\" 404 -\n"
     ]
    }
   ],
   "source": [
    "from flask import Flask\n",
    "import os\n",
    "port = os.getuid( )\n",
    "app = Flask(__name__)\n",
    "@app.route('/')\n",
    "\n",
    "# ‘/’ URL is bound with hello_world() function.\n",
    "def hello_world():\n",
    "    return 'Hello World'\n",
    "\n",
    "# main driver function\n",
    "if __name__ == '__main__':\n",
    "    app.run(host='0.0.0.0', port=port)\n",
    " "
   ]
  },
  {
   "cell_type": "code",
   "execution_count": null,
   "id": "69e3c575-ac29-49eb-b0f3-ba173ce43a94",
   "metadata": {},
   "outputs": [],
   "source": []
  },
  {
   "cell_type": "code",
   "execution_count": null,
   "id": "cf364a02-e352-4d92-9c15-c98d2ab80c45",
   "metadata": {},
   "outputs": [],
   "source": [
    "! curl localhost"
   ]
  },
  {
   "cell_type": "code",
   "execution_count": null,
   "id": "3aac2a26-fdb4-4576-8ac3-efd3e1338a88",
   "metadata": {},
   "outputs": [],
   "source": []
  }
 ],
 "metadata": {
  "kernelspec": {
   "display_name": "Python 3 (ipykernel)",
   "language": "python",
   "name": "python3"
  },
  "language_info": {
   "codemirror_mode": {
    "name": "ipython",
    "version": 3
   },
   "file_extension": ".py",
   "mimetype": "text/x-python",
   "name": "python",
   "nbconvert_exporter": "python",
   "pygments_lexer": "ipython3",
   "version": "3.11.2"
  }
 },
 "nbformat": 4,
 "nbformat_minor": 5
}

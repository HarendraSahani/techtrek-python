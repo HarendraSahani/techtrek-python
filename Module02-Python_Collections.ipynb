{
  "cells": [
    {
      "cell_type": "markdown",
      "metadata": {
        "id": "view-in-github",
        "colab_type": "text"
      },
      "source": [
        "<a href=\"https://colab.research.google.com/github/roitraining/techtrek-python/blob/main/Module02-Python_Collections.ipynb\" target=\"_parent\"><img src=\"https://colab.research.google.com/assets/colab-badge.svg\" alt=\"Open In Colab\"/></a>"
      ]
    },
    {
      "cell_type": "markdown",
      "metadata": {
        "id": "yUJrEdPRdpjp"
      },
      "source": [
        "# Python Collections"
      ]
    },
    {
      "cell_type": "markdown",
      "metadata": {
        "id": "bS0SCZbcfWpU"
      },
      "source": [
        "* Here is a <font color='blue' face=\"Courier New\" size=\"+1\">list</font> of numbers\n",
        "  * We can add and change elements as well as extract elements individually or in <font color='blue'>slices</font>\n",
        "  * Slices are either a single element or <font color='blue'>range</font> of elements in square brackets <font color='blue' face=\"Courier New\" size=\"+1\">[ ]</font> after the variable name"
      ]
    },
    {
      "cell_type": "code",
      "execution_count": null,
      "metadata": {
        "id": "192iJLdt7fOG"
      },
      "outputs": [],
      "source": [
        "numbers = [4, 2, 2, 10, 12, 3, 7, 12]\n",
        "print(\"the entire list, note the square brackets in the output\")\n",
        "print(numbers)\n",
        "\n",
        "print(f\"\\nthe first element, 0 is the first element\")\n",
        "print(numbers[0])\n",
        "\n",
        "print(f\"\\nthe third element, because it starts with 0\")\n",
        "print(numbers[2])\n",
        "\n",
        "print(f\"\\nthe range of elements starting with element 2 (the third element) to the end, note the square brackets\")\n",
        "print(numbers[2:])\n",
        "\n",
        "print(f\"\\nthe range from the start (element zero) up to but NOT including element 2\")\n",
        "print(numbers[:2])\n",
        "\n",
        "print(f\"\\nthe range starting at element two up to but NOT including the second from the end (negative 2)\")\n",
        "print(numbers[2:-2])"
      ]
    },
    {
      "cell_type": "markdown",
      "metadata": {
        "id": "AX-4OAA3aWjx"
      },
      "source": [
        "* A <font color='blue' face=\"Courier New\" size=\"+1\">list</font> is also mutable (changeable)\n",
        "  * We can change, add, remove and sort elements\n"
      ]
    },
    {
      "cell_type": "code",
      "execution_count": null,
      "metadata": {
        "id": "ccWL_AnbbvGA"
      },
      "outputs": [],
      "source": [
        "numbers = [4, 2, 2, 10, 12, 3, 7, 12]\n",
        "print(\"change the first element to a value of 5\")\n",
        "numbers[0] = 5\n",
        "print(numbers)\n",
        "\n",
        "print(f\"\\nremove the first element with a value of 2\")\n",
        "numbers.remove(2)\n",
        "print(numbers)\n",
        "\n",
        "print(f\"\\nadd a value of twenty to the end of the list\")\n",
        "numbers.append(20)\n",
        "print(numbers)\n",
        "\n",
        "print(f\"\\ndelete element 1 from the list\")\n",
        "del numbers[1]\n",
        "print(numbers)\n",
        "\n",
        "print(f\"\\nprint a list of the numbers sorted, but don't change the list itself\")\n",
        "print('sorted', sorted(numbers))\n",
        "print('original', numbers)\n",
        "\n",
        "print(f\"\\nthis will mutate or change the list order\")\n",
        "numbers.sort()\n",
        "print(numbers)"
      ]
    },
    {
      "cell_type": "markdown",
      "metadata": {
        "id": "O6Lc2kaVLYYf"
      },
      "source": [
        "* A <font color='blue' face=\"Courier New\" size=\"+1\">list</font> can contain any kind of data\n",
        "  * If all the elements are the same data type we call it <font color='blue'>homogeneous</font>\n",
        "  * If they are different we call it <font color='blue'>heterogeneous</font>\n"
      ]
    },
    {
      "cell_type": "code",
      "execution_count": null,
      "metadata": {
        "id": "fZwRL97acNbk"
      },
      "outputs": [],
      "source": [
        "# homogeneous list of strings\n",
        "names = ['Sri', 'Alex', 'Martha']\n",
        "print(names)\n",
        "\n",
        "# heterogenous list of different types\n",
        "costs = [10, 12.3, 10.02, 'ten']\n",
        "print(costs)\n"
      ]
    },
    {
      "cell_type": "markdown",
      "metadata": {
        "id": "mK3OV5QVelL5"
      },
      "source": [
        "## Try it now: ##\n",
        "#### 1.\tCreate a simple list of five strings.\n",
        "#### 2.\tPrint the first and last element.\n",
        "#### 3.\tChange the second element to something different.\n",
        "#### 4. Sort the list and display it.\n",
        "<br>\n",
        "<details><summary>Click for <b>hint</b></summary>\n",
        "<p>\n",
        "1.\tMake a list of colors or names. Use <font color='blue' face=\"Courier New\" size=\"+1\">[ ]</font> and a quoted list of values separated by commas.\n",
        "<br>\n",
        "2.\tUse <font color='blue' face=\"Courier New\" size=\"+1\">[0]</font> for the first element and <font color='blue' face=\"Courier New\" size=\"+1\">[-1]</font> for the last element.\n",
        "<br>\n",
        "3.\tUse <font color='blue' face=\"Courier New\" size=\"+1\">[1]</font> for the second element and an <font color='blue' face=\"Courier New\" size=\"+1\"> = </font> to change the value.\n",
        "<br>\n",
        "4.\tUse the <font color='blue' face=\"Courier New\" size=\"+1\">sort</font> method not the <font color='blue' face=\"Courier New\" size=\"+1\">sorted</font> function.\n",
        "<br>\n",
        "<br>\n",
        "</p>\n",
        "</details>\n",
        "\n",
        "<details><summary>Click for <b>code</b></summary>\n",
        "<p>\n",
        "\n",
        "```python\n",
        "colors = ['red', 'blue', 'green', 'yellow', 'white']\n",
        "print(colors[0], colors[-1])\n",
        "colors[1] = 'black'\n",
        "colors.sort()\n",
        "print(colors)\n",
        "```\n",
        "</p>\n",
        "</details>"
      ]
    },
    {
      "cell_type": "code",
      "execution_count": null,
      "metadata": {
        "id": "ZmuiTcY0eYmf"
      },
      "outputs": [],
      "source": []
    },
    {
      "cell_type": "markdown",
      "metadata": {
        "id": "mV0fURPROIfp"
      },
      "source": [
        "* Similar to lists are <font color='blue' face=\"Courier New\" size=\"+1\">sets</font> and <font color='blue' face=\"Courier New\" size=\"+1\">tuples</font>\n",
        "  * A <font color='blue' face=\"Courier New\" size=\"+1\">set</font> makes sure all the elements in the collection are unique\n",
        "    * we use curly braces <font color='blue' face=\"Courier New\" size=\"+1\">{ }</font> to surround the elements\n",
        "  * A <font color='blue' face=\"Courier New\" size=\"+1\">tuple</font> is just like a <font color='blue' face=\"Courier New\" size=\"+1\">list</font> but are not mutable, so once we assign values to it, we can't change them\n",
        "    * we use parantheses <font color='blue' face=\"Courier New\" size=\"+1\">( )</font> to surround the elements\n",
        "    * immutablity is slightly more efficient in some cases"
      ]
    },
    {
      "cell_type": "code",
      "execution_count": null,
      "metadata": {
        "id": "797LgCXQdPAi"
      },
      "outputs": [],
      "source": [
        "set1 = {1, 2, 3, 4, 4, 5, 6, 3}\n",
        "print(set1)\n",
        "\n",
        "tuple1 = ('a', 1, 'b')\n",
        "print(tuple1[0], tuple1[-1], tuple1[0:2])\n",
        "\n",
        "# but you cannot change the tuple so the following code would fail\n",
        "# tuple1[0] = 'z'"
      ]
    },
    {
      "cell_type": "markdown",
      "metadata": {
        "id": "ggY5-CH8Okw7"
      },
      "source": [
        "* A dictionary or <font color='blue' face=\"Courier New\" size=\"+1\">dict</font> is another kind of collection that takes <font color='blue'>key/value pairs</font>, sometimes just called <font color='blue'>KV</font> for short\n",
        "* It's sort of like field names and values\n",
        "  * Often used as a way to represent a record from something list a SQL table\n",
        "* It also uses curly braces <font color='blue' face=\"Courier New\" size=\"+1\">{ }</font> like a <font color='blue' face=\"Courier New\" size=\"+1\">set</font> does, but it uses a colon <font color='blue' face=\"Courier New\" size=\"+1\">:</font> to separate the key and value\n",
        "* They are mutable like <font color='blue' face=\"Courier New\" size=\"+1\">list</font> and <font color='blue' face=\"Courier New\" size=\"+1\">set</font> but instead of using a position to access a single element we use the key to fetch a specific value\n",
        "  * Keys are usually strings but don't have to be"
      ]
    },
    {
      "cell_type": "code",
      "execution_count": null,
      "metadata": {
        "id": "jIurdtj5jX4l"
      },
      "outputs": [],
      "source": [
        "record = {'firstname': 'Adam', 'lastname': 'Smith', 'age': 50}\n",
        "print(record)\n",
        "\n",
        "print(f\"\\nthe value for the element names firstname\")\n",
        "print(record['firstname'])\n",
        "\n",
        "print(f\"\\nchange the elemennt for the key lastname to a new value\")\n",
        "record['lastname'] = 'Jones'\n",
        "\n",
        "print(f\"\\nadd a new key and value\")\n",
        "record['gender'] = 'M'\n",
        "print(record)\n",
        "\n",
        "print(f\"\\nprint a list of just the keys\")\n",
        "print(record.keys())\n",
        "\n",
        "print(f\"\\na list of just the values\")\n",
        "print(record.values())\n",
        "\n",
        "print(f\"\\nremove a key from the dictionary\")\n",
        "del record['gender']\n",
        "print(record)"
      ]
    },
    {
      "cell_type": "markdown",
      "source": [
        "* Even strings are similar to lists and we can treat each character of the string the same way we do each element of a collection\n",
        "* That means we can get individual elements or slices with square bracket syntax just like lists\n"
      ],
      "metadata": {
        "id": "8fR5JrkknGPR"
      }
    },
    {
      "cell_type": "code",
      "source": [
        "name = 'Han Solo'\n",
        "print(name[0])\n",
        "print(name[0:3])"
      ],
      "metadata": {
        "id": "t1MDeEINnX2o"
      },
      "execution_count": null,
      "outputs": []
    },
    {
      "cell_type": "markdown",
      "source": [
        "* Generally we use collections in combination with a <font color='blue' face=\"Courier New\" size=\"+1\">for</font> loop to do something to each element of the collection\n"
      ],
      "metadata": {
        "id": "c2e9FdcGpDFv"
      }
    },
    {
      "cell_type": "code",
      "source": [
        "names = ['Luke', 'Leia', 'Han', 'Ben']\n",
        "for name in names:\n",
        "  print(name.upper())"
      ],
      "metadata": {
        "id": "J3XXZ1ZNpAsy"
      },
      "execution_count": null,
      "outputs": []
    },
    {
      "cell_type": "markdown",
      "source": [
        "* There are lots of functions that return lists and other collections\n",
        "* For example, last week we looked at <font color='blue' face=\"Courier New\" size=\"+1\">os.listdir()</font>"
      ],
      "metadata": {
        "id": "43y-Y-tzKG-5"
      }
    },
    {
      "cell_type": "code",
      "source": [
        "import os\n",
        "print(os.listdir('sample_data'))"
      ],
      "metadata": {
        "id": "6ZUwoiiGKejj"
      },
      "execution_count": null,
      "outputs": []
    },
    {
      "cell_type": "markdown",
      "metadata": {
        "id": "hpxj5E-Yq-BU"
      },
      "source": [
        "## Challenge for later: ##\n",
        "### Collections in Python are very powerful and we could spend days going through all the possibilities\n",
        "### Some additional topics to discover on your own would be:\n",
        "* <a href=\"https://www.geeksforgeeks.org/python-map-function\">map</a>\n",
        "* <a href=\"https://www.learnpython.org/en/List_Comprehensions\">list comprensions</a>\n"
      ]
    },
    {
      "cell_type": "markdown",
      "source": [
        "# Complex collections\n",
        "* Combining all these types of collections is possible and can quickly get pretty tricky\n",
        "* Below we have a list of dictionaries which looks a lot like JSON\n",
        "* It also is similar to a table of data, but it's harder to visualize and process"
      ],
      "metadata": {
        "id": "YUujTjvGFGp-"
      }
    },
    {
      "cell_type": "code",
      "source": [
        "data = [{'team': 'Leicester', 'player': 'Vardy', 'goals': 24}\n",
        "        ,{'team': 'Manchester City', 'player': 'Aguero', 'goals': 22}\n",
        "        ,{'team': 'Arsenal', 'player': 'Sanchez', 'goals': 19}]\n",
        "print(data)"
      ],
      "metadata": {
        "id": "AjZpwgTjpAv5"
      },
      "execution_count": null,
      "outputs": []
    },
    {
      "cell_type": "markdown",
      "source": [
        "* There's a more advanced set of modules that come to the rescue\n",
        "  * <a href=\"https://pypi.org/project/numpy/\">numpy</a> is a more efficient way to store lists of numbers and offers many built-in math functions\n",
        "  * <a href=\"https://pypi.org/project/pandas/\">pandas</a> is a package that creates a <font color='blue' face=\"Courier New\" size=\"+1\">dataframe</font> that is similar to a SQL table but in memory"
      ],
      "metadata": {
        "id": "fWsX8Sp1qOX3"
      }
    },
    {
      "cell_type": "code",
      "source": [
        "! pip install numpy\n",
        "! pip install pandas"
      ],
      "metadata": {
        "id": "k5_Gv6x_pAzB"
      },
      "execution_count": null,
      "outputs": []
    },
    {
      "cell_type": "markdown",
      "source": [
        "* We can take the complex <font color='blue' face=\"Courier New\" size=\"+1\">list</font> of <font color='blue'>dictionaries</font> and turn it into a simpler <font color='blue'>pandas</font> <font color='blue' face=\"Courier New\" size=\"+1\">dataframe</font>"
      ],
      "metadata": {
        "id": "jnAlMWGwy0OX"
      }
    },
    {
      "cell_type": "code",
      "source": [
        "from pandas import DataFrame\n",
        "data = [{'team': 'Leicester', 'player': 'Vardy', 'goals': 24}\n",
        "        ,{'team': 'Manchester City', 'player': 'Aguero', 'goals': 22}\n",
        "        ,{'team': 'Arsenal', 'player': 'Sanchez', 'goals': 19}]\n",
        "football = DataFrame(data)\n",
        "print(football)"
      ],
      "metadata": {
        "id": "wcnqjvlupA2O"
      },
      "execution_count": null,
      "outputs": []
    },
    {
      "cell_type": "markdown",
      "source": [
        "* When working in Jupyter we can use the <font color='blue' face=\"Courier New\" size=\"+1\">display</font> function instead of <font color='blue' face=\"Courier New\" size=\"+1\">print</font> for a easier to read output"
      ],
      "metadata": {
        "id": "DzeAxl7Zy_Ij"
      }
    },
    {
      "cell_type": "code",
      "source": [
        "display(football)"
      ],
      "metadata": {
        "id": "P0q7vUPvpA5T"
      },
      "execution_count": null,
      "outputs": []
    },
    {
      "cell_type": "markdown",
      "source": [
        "* We can use the <font color='blue' face=\"Courier New\" size=\"+1\">loc</font> and <font color='blue' face=\"Courier New\" size=\"+1\">iloc</font> methods to slice the dataframe just like a collection"
      ],
      "metadata": {
        "id": "wyMwnKeN11ne"
      }
    },
    {
      "cell_type": "code",
      "source": [
        "print(f\"\\ndisplay the first row\")\n",
        "display(football.loc[0])\n",
        "\n",
        "print(f\"\\ndisplay the first row\")\n",
        "display(football.iloc[0])\n",
        "\n",
        "print(f\"\\ndisplay the slice of the first and second row (rows 0 and up to but not including 2)\")\n",
        "display(football.iloc[0:2])\n",
        "\n",
        "print(f\"\\ndisplay from the second to last row to the end\")\n",
        "display(football.iloc[-2:])\n",
        "\n",
        "print(f\"\\ndisplay from the second to last row to the end, but only columns 0 and up to but not including 2\")\n",
        "display(football.iloc[-2:, 0:2])\n",
        "\n",
        "print(f\"\\ndisplay all rows, but only columns 0 and up to but not including 2\")\n",
        "display(football.iloc[:, 0:2])\n",
        "\n",
        "print(f\"\\ndisplay all rows, but only columns 0 and 2, note the square brackets to supply a list of values not a range\")\n",
        "display(football.iloc[:, [0, 2]])\n"
      ],
      "metadata": {
        "id": "GWifngJO1xvb"
      },
      "execution_count": null,
      "outputs": []
    },
    {
      "cell_type": "markdown",
      "source": [
        "* Or we can give it indexes similar to a primary key in a SQL table\n",
        "* Then iloc means use the numerical position but loc means look up the row by its index, so it's similar to how a dictionary works"
      ],
      "metadata": {
        "id": "gQScAM2o0c6t"
      }
    },
    {
      "cell_type": "code",
      "source": [
        "football2 = football.set_index('team')\n",
        "display(football2)"
      ],
      "metadata": {
        "id": "Tw4vumw81R8X"
      },
      "execution_count": null,
      "outputs": []
    },
    {
      "cell_type": "code",
      "source": [
        "print('get the row for index Arsenal, all columns')\n",
        "display(football2.loc['Arsenal'])\n",
        "print()\n",
        "print(f'\\nget the first row, all columns')\n",
        "display(football.iloc[0])\n",
        "print()\n",
        "print(f'\\nget the row for arsenal and just the goals column')\n",
        "display(football2.loc['Arsenal', 'goals'])\n",
        "print()\n",
        "print(f'\\nget the row for arsenal and just the goals and player columns')\n",
        "display(football2.loc['Arsenal', ['goals', 'player']])\n",
        "print()\n",
        "print(f'\\nget the first and second rows and just the goals and player columns')\n",
        "display(football2.iloc[0:2].loc[:, ['goals', 'player']])\n",
        "print()\n"
      ],
      "metadata": {
        "id": "Mr22C5_XpA8X"
      },
      "execution_count": null,
      "outputs": []
    },
    {
      "cell_type": "markdown",
      "source": [
        "* We can also do operations like <font color='blue'>filter</font> and <font color='blue'>aggregations</font>"
      ],
      "metadata": {
        "id": "T83yayiNRodx"
      }
    },
    {
      "cell_type": "code",
      "source": [
        "filtered_football = football[football['goals'] > 20]\n",
        "display(filtered_football)\n",
        "\n",
        "average_goals = football['goals'].mean()\n",
        "print(average_goals)\n"
      ],
      "metadata": {
        "id": "b9-zXje6HkC6"
      },
      "execution_count": null,
      "outputs": []
    },
    {
      "cell_type": "markdown",
      "source": [
        "* For the most part we use pandas to read data from common file formats like CSV or JSON\n",
        "* Once it is read into memory as a DataFrame, we can manipulate it to <font color='blue'>filter</font>, <font color='blue'>sort</font>, <font color='blue'>aggregate</font> and other common operations\n",
        "* Then we can either save it to a new file or display it as a chart\n",
        "* This is what makes Python so popular in the Data Science, Data Engineering,  Machine Learning and Artificial Intelligence fields"
      ],
      "metadata": {
        "id": "JuK_FjLfTRSb"
      }
    },
    {
      "cell_type": "code",
      "source": [
        "import pandas as pd\n",
        "filename = 'https://raw.githubusercontent.com/roitraining/techtrek-python/main/products.csv?token=GHSAT0AAAAAACQYWYY6JKLETEXO3XYYJRAAZRJB4JQ'\n",
        "df = pd.read_csv(filename)\n",
        "display(df)"
      ],
      "metadata": {
        "id": "0WqCvzE_XiWn"
      },
      "execution_count": null,
      "outputs": []
    },
    {
      "cell_type": "markdown",
      "source": [
        "* Let's do an example data manipulation on this.\n",
        "  * We will filter it to only get the fields for ProductID, ProductName, UnitPrice and CategoryID that are not Discontinued\n",
        "  * Then write that out to a new file in JSON format\n",
        "  * Then we will take that and calculate the CategoryID average price sorted in descending order"
      ],
      "metadata": {
        "id": "-8Y10S0OY9zT"
      }
    },
    {
      "cell_type": "code",
      "source": [
        "df2 = df[df['Discontinued'] == 0].loc[:, ['ProductID', 'ProductName', 'UnitPrice', 'CategoryID']]\n",
        "display(df2)\n",
        "df2.to_json('./products.json')"
      ],
      "metadata": {
        "id": "UP10bCAKaFyR"
      },
      "execution_count": null,
      "outputs": []
    },
    {
      "cell_type": "markdown",
      "source": [
        "* Let's read the JSON file just to show how it would work"
      ],
      "metadata": {
        "id": "XDpuiklec9t4"
      }
    },
    {
      "cell_type": "code",
      "source": [
        "import os\n",
        "os.listdir()\n",
        "df3 = pd.read_json('products.json')\n",
        "display(df3)\n"
      ],
      "metadata": {
        "id": "K0d63xFwbl4R"
      },
      "execution_count": null,
      "outputs": []
    },
    {
      "cell_type": "markdown",
      "source": [
        "* Here we can apply a <font color='blue' face=\"Courier New\" size=\"+1\">groupby</font> and a <font color='blue' face=\"Courier New\" size=\"+1\">mean</font>"
      ],
      "metadata": {
        "id": "oH2D-qw5dDDp"
      }
    },
    {
      "cell_type": "code",
      "source": [
        "average_price_by_category = df3.groupby('CategoryID')['UnitPrice'].mean()\n",
        "\n",
        "# Print the results showing average UnitPrice by CategoryID\n",
        "print(average_price_by_category)\n",
        "\n",
        "df4 = DataFrame(average_price_by_category)\n",
        "print(df4)"
      ],
      "metadata": {
        "id": "KNYgBBl_b3Lt"
      },
      "execution_count": null,
      "outputs": []
    },
    {
      "cell_type": "markdown",
      "metadata": {
        "id": "mORQvUH1QhqO"
      },
      "source": [
        "* Finally, let's turn that into a chart with <font color='blue' face=\"Courier New\" size=\"+1\">matplotlib</font>\n"
      ]
    },
    {
      "cell_type": "code",
      "execution_count": null,
      "metadata": {
        "id": "ekHqc8uy7vBF"
      },
      "outputs": [],
      "source": [
        "import matplotlib.pyplot as plt\n",
        "\n",
        "# Get pie chart slice labels\n",
        "pie_chart_slice_labels = df4.index.to_numpy()  # Assuming the index represents categories\n",
        "\n",
        "# Get pie chart slice values\n",
        "pie_chart_slice_values = df4['UnitPrice'].to_numpy()\n",
        "\n",
        "# Create a pie chart of the UnitPrice data\n",
        "plt.pie(pie_chart_slice_values, labels=pie_chart_slice_labels, autopct=\"%1.1f%%\")\n",
        "plt.title(\"Pie Chart of Unit Price Distribution\")\n",
        "plt.show()"
      ]
    },
    {
      "cell_type": "markdown",
      "metadata": {
        "id": "e0y54jZFStTU"
      },
      "source": [
        "* Here's a bar chart instead"
      ]
    },
    {
      "cell_type": "code",
      "execution_count": null,
      "metadata": {
        "id": "ZBwERLGK9TpF"
      },
      "outputs": [],
      "source": [
        "# Get pie chart slice labels\n",
        "category_labels = df4.index.to_numpy()  # Assuming the index represents categories\n",
        "\n",
        "# Get pie chart slice values\n",
        "category_values = df4['UnitPrice'].to_numpy()\n",
        "\n",
        "plt.barh(category_labels, category_values)\n",
        "plt.xlabel(\"Unit Price\")\n",
        "plt.ylabel(\"Category ID\")\n",
        "plt.title(\"Horizontal Bar Chart of Unit Price Distribution\")\n",
        "plt.gca().invert_yaxis()  # Invert y-axis to display highest value at the top\n",
        "plt.tight_layout()\n"
      ]
    },
    {
      "cell_type": "markdown",
      "metadata": {
        "id": "go9sWN84FVRO"
      },
      "source": [
        "## Challenge for later: ##\n",
        "\n",
        "### The aim of this challenge is to gain some experience of working with Pandas DataFrame data structure.\n",
        "\n",
        "#### 1.\tTry to encode the following data into a DataFrame object:\n",
        "\n",
        "| id | name | age |\n",
        "| -- | ---- | --- |\n",
        "| 1 | Jack | 30 |\n",
        "| 2 | Mary| 40 |\n",
        "| 3 | Mike | 35 |\n",
        "| 4 | Susan | 25 |\n",
        "\n",
        "#### 2. Find the min, max and average age from the dataset\n",
        "<br>\n",
        "<details><summary>Click for <b>hint</b></summary>\n",
        "<p>\n",
        "First create either a list of dictionaries or dictionary of lists to encode the data\n",
        "<br>\n",
        "You want id to be the index column so exclude that from your dictionary and supply it separately<br>\n",
        "<br>\n",
        "<br>\n",
        "</p>\n",
        "</details>\n",
        "\n",
        "\n",
        "<details><summary>Click for <b>code</b></summary>\n",
        "<p>\n",
        "\n",
        "```python\n",
        "import pandas as pd\n",
        "from pandas import DataFrame\n",
        "\n",
        "# Dictionary of lists\n",
        "d = {'name':['Jack', 'Mary', 'Mike', 'Susan'],\n",
        "     'age' : [30, 40, 35, 25]}\n",
        "\n",
        "df = DataFrame(d, index = [1, 2, 3, 4])\n",
        "display(df)\n",
        "\n",
        "# List of Dictionaries\n",
        "d = [{'name' : 'Jack', 'age' : 30}\n",
        "    ,{'name' : 'Mary', 'age' : 40}\n",
        "    ,{'name' : 'Mike', 'age' : 35}\n",
        "    ,{'name' : 'Susan', 'age' : 25}\n",
        "    ]\n",
        "\n",
        "df = DataFrame(d, index = [1, 2, 3, 4])\n",
        "display(df)\n",
        "\n",
        "# Or if you have one big dictionary, you can use list comprehension magic to pull out the id column\n",
        "\n",
        "d = [{'id' : 1, 'name' : 'Jack', 'age' : 30}\n",
        "    ,{'id' : 2, 'name' : 'Mary', 'age' : 40}\n",
        "    ,{'id' : 3, 'name' : 'Mike', 'age' : 35}\n",
        "    ,{'id' : 4, 'name' : 'Susan', 'age' : 25}\n",
        "    ]\n",
        "\n",
        "df = DataFrame(d, index = (x['id'] for x in d), columns = ['name', 'age'])\n",
        "display(df)\n",
        "\n",
        "min_age = df['age'].min()\n",
        "max_age = df['age'].max()\n",
        "avg_age = df['age'].mean()\n",
        "\n",
        "# Print the results\n",
        "print(\"Minimum age:\", min_age)\n",
        "print(\"Maximum age:\", max_age)\n",
        "print(\"Average age:\", avg_age.round(2))  # Round average to two decimal places\n",
        "```\n",
        "</p>\n",
        "</details>"
      ]
    },
    {
      "cell_type": "code",
      "execution_count": null,
      "metadata": {
        "id": "51ug0AX1Fa7-"
      },
      "outputs": [],
      "source": [
        "import pandas as pd\n",
        "from pandas import DataFrame\n",
        "\n",
        "# Dictionary of lists\n",
        "d = {'name':['Jack', 'Mary', 'Mike', 'Susan'],\n",
        "     'age' : [30, 40, 35, 25]}\n",
        "\n",
        "df = DataFrame(d, index = [1, 2, 3, 4])\n",
        "display(df)\n",
        "\n",
        "# List of Dictionaries\n",
        "d = [{'name' : 'Jack', 'age' : 30}\n",
        "    ,{'name' : 'Mary', 'age' : 40}\n",
        "    ,{'name' : 'Mike', 'age' : 35}\n",
        "    ,{'name' : 'Susan', 'age' : 25}\n",
        "    ]\n",
        "\n",
        "df = DataFrame(d, index = [1, 2, 3, 4])\n",
        "display(df)\n",
        "\n",
        "# Or if you have one big dictionary, you can use list comprehension magic to pull out the id column\n",
        "\n",
        "d = [{'id' : 1, 'name' : 'Jack', 'age' : 30}\n",
        "    ,{'id' : 2, 'name' : 'Mary', 'age' : 40}\n",
        "    ,{'id' : 3, 'name' : 'Mike', 'age' : 35}\n",
        "    ,{'id' : 4, 'name' : 'Susan', 'age' : 25}\n",
        "    ]\n",
        "\n",
        "df = DataFrame(d, index = (x['id'] for x in d), columns = ['name', 'age'])\n",
        "display(df)\n",
        "\n",
        "\n",
        "min_age = df['age'].min()\n",
        "max_age = df['age'].max()\n",
        "avg_age = df['age'].mean()\n",
        "\n",
        "# Print the results\n",
        "print(\"Minimum age:\", min_age)\n",
        "print(\"Maximum age:\", max_age)\n",
        "print(\"Average age:\", avg_age.round(2))  # Round average to two decimal places"
      ]
    }
  ],
  "metadata": {
    "anaconda-cloud": {},
    "colab": {
      "provenance": [],
      "include_colab_link": true
    },
    "kernelspec": {
      "display_name": "Python 3",
      "language": "python",
      "name": "python3"
    },
    "language_info": {
      "codemirror_mode": {
        "name": "ipython",
        "version": 3
      },
      "file_extension": ".py",
      "mimetype": "text/x-python",
      "name": "python",
      "nbconvert_exporter": "python",
      "pygments_lexer": "ipython3",
      "version": "3.10.13"
    }
  },
  "nbformat": 4,
  "nbformat_minor": 0
}